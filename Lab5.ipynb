{
 "cells": [
  {
   "cell_type": "markdown",
   "metadata": {},
   "source": [
    "# Regresja liniowa (aproksymacja średniokwadratowa)"
   ]
  },
  {
   "cell_type": "markdown",
   "metadata": {},
   "source": [
    "## Zadanie 1"
   ]
  },
  {
   "cell_type": "markdown",
   "metadata": {},
   "source": [
    "Napisz funkcję liczącą błąd średniokwadratowy. Na wejściu musi dostawać dwie tablice/dwa wektory równej długości, a na wyjściu ma zwracać sumę kwadratów różnic pomiędzy kolejnymi elementami tych wektorów."
   ]
  },
  {
   "cell_type": "code",
   "execution_count": 1,
   "metadata": {},
   "outputs": [],
   "source": [
    "def rmse(x, y):\n",
    "    rv = 0\n",
    "    for x_el, y_el in zip(x, y):\n",
    "        rv += (x_el - y_el) ** 2\n",
    "    return rv"
   ]
  },
  {
   "cell_type": "markdown",
   "metadata": {},
   "source": [
    "## Zadanie 2"
   ]
  },
  {
   "cell_type": "markdown",
   "metadata": {},
   "source": [
    "Napisz funkcję pobierającą wektor par floatów lub dwa wektory floatów i zwracającą parametry a i b prostej o równaniu y = ax + b, będącej najlepszą aproksymacją tych punktów.\n",
    "\n",
    "W przypadku opcji z wektorem par, kolejne pary traktujemy jako x_i i y_i opisane powyżej. W przypadku wyboru dwóch wektorów, traktujemy je jako wektory x i y."
   ]
  },
  {
   "cell_type": "code",
   "execution_count": 2,
   "metadata": {},
   "outputs": [],
   "source": [
    "import numpy as np\n",
    "\n",
    "def lin_reg(xs, ys):\n",
    "    mean_x, mean_y = np.mean(xs), np.mean(ys)\n",
    "    dev_xy = np.sum(xs * ys - mean_x * mean_y)\n",
    "    dev_xx = np.sum(xs * xs - mean_x * mean_x)\n",
    "    \n",
    "    a = dev_xy / dev_xx\n",
    "    b = mean_y - a * mean_x\n",
    "    \n",
    "    return a, b"
   ]
  },
  {
   "cell_type": "markdown",
   "metadata": {},
   "source": [
    "## Zadanie 3"
   ]
  },
  {
   "cell_type": "markdown",
   "metadata": {},
   "source": [
    "Napisz klasę enkapsulującą model regresji liniowej. Klasa powinna mieć metody:\n",
    "\n",
    " - fit, przyjmującą punkty, do których będziemy dopasowywać model (sygnatura taka, jak metoda lin_reg)\n",
    " - predict, przyjmująca wektor floatów (tylko współrzędna x) i zwracającą predykcje naszego modelu dla tych danych wejściowych\n",
    " - pole coeffs, zwracają współczynniki prostej, którą dopasowywaliśmy\n"
   ]
  },
  {
   "cell_type": "code",
   "execution_count": 3,
   "metadata": {},
   "outputs": [],
   "source": [
    "class LinearRegressor():\n",
    "    def __init__(self):\n",
    "        self._coeffs = None   # type: Optional[Tuple[float, float]]\n",
    "    \n",
    "    def fit(self, x, y) -> None:\n",
    "        mean_x, mean_y = np.mean(xs), np.mean(ys)\n",
    "        dev_xy = np.sum(x * y - mean_x * mean_y)\n",
    "        dev_xx = np.sum(x * x - mean_x * mean_x)\n",
    "    \n",
    "        a = dev_xy / dev_xx\n",
    "        b = mean_y - a * mean_x\n",
    "        \n",
    "        self._coeffs = (a, b) \n",
    "\n",
    "    def predict(self, x):\n",
    "        a, b = self.coeffs\n",
    "        return [a * i + b for i in x]\n",
    "\n",
    "    @property\n",
    "    def coeffs(self):\n",
    "        if self._coeffs is None:\n",
    "            raise Exception('You need to call `fit` on the model first.')\n",
    "        \n",
    "        return self._coeffs"
   ]
  },
  {
   "cell_type": "markdown",
   "metadata": {},
   "source": [
    "## Zadanie 4.\n",
    "\n",
    "Przetestuj powyższą klasę używając prawdziwych danych (dopasowując model na danych, następnie licząc błąd średniokwadratowy pomiędzy predykcjami modelu a prawdziwymi danymi)."
   ]
  },
  {
   "cell_type": "code",
   "execution_count": 4,
   "metadata": {},
   "outputs": [
    {
     "name": "stdout",
     "output_type": "stream",
     "text": [
      "Element: 1 , prediction: 23.40830931918123\n",
      "Element: 11 , prediction: 57.54654491984487\n",
      "Element: 21 , prediction: 91.68478052050851\n",
      "Element: 31 , prediction: 125.82301612117216\n",
      "Element: 41 , prediction: 159.9612517218358\n"
     ]
    }
   ],
   "source": [
    "data = np.loadtxt('assets/AutoInsurSweden.txt').transpose()\n",
    "xs = data[0]\n",
    "ys = data[1]\n",
    "\n",
    "lr = LinearRegressor()\n",
    "lr.fit(xs, ys)\n",
    "\n",
    "random_data = list(range(1, 50, 10))\n",
    "prediction = lr.predict(random_data)\n",
    "for i, p in zip(random_data, prediction):\n",
    "    print('Element:', i, ', prediction:', p)"
   ]
  },
  {
   "cell_type": "markdown",
   "metadata": {},
   "source": [
    "## Zadanie 5.\n",
    "\n",
    "Napisz funkcję, która będzie potrafiła narysować wykres danych i dopasowanej do nich prostej, używając klasy LinearRegressor do stworzenia modelu.\n"
   ]
  },
  {
   "cell_type": "code",
   "execution_count": 6,
   "metadata": {},
   "outputs": [
    {
     "data": {
      "image/png": "[encoded data removed]",
      "text/plain": [
       "<Figure size 432x288 with 1 Axes>"
      ]
     },
     "metadata": {
      "needs_background": "light"
     },
     "output_type": "display_data"
    }
   ],
   "source": [
    "import matplotlib.pyplot as plt\n",
    "\n",
    "def plot_data(xs, ys):\n",
    "    lr = LinearRegressor()\n",
    "    lr.fit(xs, ys)\n",
    "    def f(x):\n",
    "        a, b = lr.coeffs\n",
    "        return a * x + b\n",
    "    ls = np.linspace(min(xs), max(xs), 100)\n",
    "    plt.plot(xs, ys, 'ro')\n",
    "    plt.plot(ls, f(ls))\n",
    "    plt.show()\n",
    "\n",
    "plot_data(xs, ys)"
   ]
  }
 ],
 "metadata": {
  "kernelspec": {
   "display_name": "mownit",
   "language": "python",
   "name": ".venv"
  },
  "language_info": {
   "codemirror_mode": {
    "name": "ipython",
    "version": 3
   },
   "file_extension": ".py",
   "mimetype": "text/x-python",
   "name": "python",
   "nbconvert_exporter": "python",
   "pygments_lexer": "ipython3",
   "version": "3.7.3"
  }
 },
 "nbformat": 4,
 "nbformat_minor": 2
}
