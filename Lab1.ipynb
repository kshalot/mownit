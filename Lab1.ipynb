{
 "cells": [
  {
   "cell_type": "markdown",
   "metadata": {},
   "source": [
    "# MOwNiT Laboratorium 1\n",
    "\n",
    "## Zadanie 1"
   ]
  },
  {
   "cell_type": "markdown",
   "metadata": {},
   "source": [
    "Porównać reprezentację bitową liczby 1/3 dla float32, float64 oraz liczby, która jest inicjalizowana jako float32, a potem rzutowana na float64."
   ]
  },
  {
   "cell_type": "code",
   "execution_count": 1,
   "metadata": {},
   "outputs": [
    {
     "name": "stdout",
     "output_type": "stream",
     "text": [
      "0.33333334 0.3333333333333333 0.3333333432674408\n"
     ]
    }
   ],
   "source": [
    "import numpy as np\n",
    "\n",
    "print(np.float32(1/3), np.float64(1/3), np.float64(np.float32(1/3)))"
   ]
  },
  {
   "cell_type": "markdown",
   "metadata": {},
   "source": [
    "## Zadanie 2"
   ]
  },
  {
   "cell_type": "markdown",
   "metadata": {},
   "source": [
    "Zbadać, jak zmienia się odległość między kolejnymi liczbami zminnoprzecinkowymi reprezentowanymi w komputerze. Narysować wykres zależności odległości od wartości liczby dla zakresu od 1.0 do 1000.0 z krokiem 1.0."
   ]
  },
  {
   "cell_type": "code",
   "execution_count": 6,
   "metadata": {},
   "outputs": [
    {
     "data": {
      "image/png": "[encoded data removed]",
      "text/plain": [
       "<Figure size 432x288 with 1 Axes>"
      ]
     },
     "metadata": {
      "needs_background": "light"
     },
     "output_type": "display_data"
    }
   ],
   "source": [
    "import numpy as np\n",
    "import matplotlib.pyplot as plt\n",
    "\n",
    "# Zakres 1.0 do 1000.0 z krokiem 1.0\n",
    "x = np.linspace(1, 1000, 1000)\n",
    "y = (lambda a: np.nextafter(a, a+1) - a)(x)\n",
    "\n",
    "plt.plot(x, y, '.')\n",
    "plt.show()"
   ]
  },
  {
   "cell_type": "markdown",
   "metadata": {},
   "source": [
    "## Zadanie 3"
   ]
  },
  {
   "cell_type": "markdown",
   "metadata": {},
   "source": [
    "Korzystając ze wsparcia dla wyświetlania reprezentacji liczb zmiennoprzecinkowych zobaczyć jak zmienia się cecha i mantysa dla coraz mniejszych liczb. Zaobserwować, kiedy matysa przestaje być znormalizowana i dlaczego?"
   ]
  },
  {
   "cell_type": "markdown",
   "metadata": {},
   "source": [
    "Poniższa funkcja zamienia float z postaci dziesiętnej do postaci określonej przez format IEEE 754."
   ]
  },
  {
   "cell_type": "code",
   "execution_count": 3,
   "metadata": {},
   "outputs": [],
   "source": [
    "import struct\n",
    "\n",
    "def float_to_binary32(num):\n",
    "    return format(struct.unpack('!I', struct.pack('!f', num))[0], '032b')"
   ]
  },
  {
   "cell_type": "markdown",
   "metadata": {},
   "source": [
    "Mantysa przestaje być znormalizowana dla liczb bardzo bliskich zera. Spełniona jest wtedy zależność: $\\forall_i e_i =0 \\wedge \\exists_j m_j \\neq 0$, tj. wszystkie bity cechy są zerami i istnieje bit mantysy, który nie jest zerem. Zabieg ten ma na celu umożliwienie reprezentacji bardzo małych liczb. Najmniejszą dodatnią liczbą, którą można przedstawić za pomocą mantysy znormalizowanej jest $2^{-126}$, a zdenormalizowanej - $2^{-149}$."
   ]
  },
  {
   "cell_type": "code",
   "execution_count": 4,
   "metadata": {},
   "outputs": [
    {
     "name": "stdout",
     "output_type": "stream",
     "text": [
      "00000000100000000000000000000000\n",
      "00000000010000000000000000000000\n"
     ]
    }
   ],
   "source": [
    "print(float_to_binary32(2**(-126)))\n",
    "print(float_to_binary32(2**(-127)))"
   ]
  },
  {
   "cell_type": "markdown",
   "metadata": {},
   "source": [
    "Zgodnie z oczekiwaniami, gdy zejdziemy poniżej liczby $2^{-126}$ widzimy, że wszystkie bity cechy są zerami i zaczynamy operować na liczbach zdenormalizowanych."
   ]
  },
  {
   "cell_type": "markdown",
   "metadata": {},
   "source": [
    "## Zadanie 4"
   ]
  },
  {
   "cell_type": "markdown",
   "metadata": {},
   "source": [
    "Wymyślić własny przykład algorytmu niestablinego numerycznie.\n",
    "\n",
    "- Zademostrować wersję niestabilną, pokazać, że działa źle.\n",
    "- Wyjaśnić, dlaczego działa źle.\n",
    "- Zademonstować wersję stabilną.\n",
    "- Język dowolny."
   ]
  },
  {
   "cell_type": "markdown",
   "metadata": {},
   "source": [
    "Maszynowa liczba zmiennoprzecinkowej jest wyrażona wzorem: $\\hspace{0.2cm}fl(a\\circ b) = (a\\circ b)(1 + \\delta), \\hspace{0.2cm} |\\delta| \\leq 2^{-t}$, gdzie $\\delta$ jest rzeczywistym reprezentacji. Rozpatrzmy dwa podejścia do rozwiązania tego samego problemu:"
   ]
  },
  {
   "cell_type": "markdown",
   "metadata": {},
   "source": [
    "$$A \\to a^2 - b^2$$"
   ]
  },
  {
   "cell_type": "markdown",
   "metadata": {},
   "source": [
    "$$B \\to (a-b)(a+b)$$"
   ]
  },
  {
   "cell_type": "markdown",
   "metadata": {},
   "source": [
    "Algorytm A:"
   ]
  },
  {
   "cell_type": "markdown",
   "metadata": {},
   "source": [
    "$$fl(A) = (a^2(1+\\delta_1) - b^2(1+\\delta_2))(1+\\delta_3) =$$"
   ]
  },
  {
   "cell_type": "markdown",
   "metadata": {},
   "source": [
    "$$=(a^2 - b^2)(\\frac{a^2(1+\\delta_1) - b^2(1+\\delta_2)}{a^2-b^2})(1+\\delta_3) =$$"
   ]
  },
  {
   "cell_type": "markdown",
   "metadata": {},
   "source": [
    "$$=(a^2-b^2)(1+\\delta_3 +(1+\\delta_3)(\\frac{a^2\\delta_1-b^2\\delta_2}{a^2-b^2})) = (a^2 - b^2)(1+\\epsilon_A)$$"
   ]
  },
  {
   "cell_type": "markdown",
   "metadata": {},
   "source": [
    "Widzimy, że gdy $\\delta_1\\delta_2 < 0 \\wedge a^2 \\approx b^2$ to $\\epsilon_A$ jest bardzo duży."
   ]
  },
  {
   "cell_type": "markdown",
   "metadata": {},
   "source": [
    "Algorytm B:"
   ]
  },
  {
   "cell_type": "markdown",
   "metadata": {},
   "source": [
    "$$fl(B)=(a-b)(1+\\delta_1)(a+b)(1+\\delta_2)(1+\\delta_3) =$$"
   ]
  },
  {
   "cell_type": "markdown",
   "metadata": {},
   "source": [
    "$$=(a^2 - b^2)(1+\\delta_1)(1+\\delta_2)(1+\\delta_3) =$$"
   ]
  },
  {
   "cell_type": "markdown",
   "metadata": {},
   "source": [
    "$$=(a^2-b^2)(1 + \\delta_1+\\delta_2+\\delta_1\\delta_2)(1+\\delta_3) =$$"
   ]
  },
  {
   "cell_type": "markdown",
   "metadata": {},
   "source": [
    "$$= (a^2-b^2)(1+\\delta_1+\\delta_2+\\delta_3+\\delta_1\\delta_2 + \\delta_1\\delta_3 + \\delta_2\\delta_3 + \\delta_1\\delta_2\\delta_3)=(a^2-b^2)(1+\\epsilon_B)$$"
   ]
  },
  {
   "cell_type": "markdown",
   "metadata": {},
   "source": [
    "Iloczyny delt są zaniedbywalnie małe, dlatego możemy przyjać, że $\\epsilon_B=\\delta_1+\\delta_2+\\delta_3$\n",
    "W takim przypadku $\\epsilon_B \\leq 3|\\displaystyle\\max_i\\delta_i|$"
   ]
  },
  {
   "cell_type": "code",
   "execution_count": 5,
   "metadata": {},
   "outputs": [
    {
     "name": "stdout",
     "output_type": "stream",
     "text": [
      "2.1382117680737565e-50 3.081487911019577e-50\n"
     ]
    }
   ],
   "source": [
    "a = 1/(10**17)\n",
    "b = 1/(10**17+1)\n",
    "\n",
    "A = a**2 - b**2\n",
    "B = (a-b)*(a+b)\n",
    "\n",
    "print(A, B)"
   ]
  },
  {
   "cell_type": "markdown",
   "metadata": {},
   "source": [
    "Algorytm B jest stabilniejszy niż algorytm A - zaburzenia jego wyniku, w porównaniu do B, wynikają głównie z niedokładnej reprezentacji liczb w komputerze. Nie są to duże różnice, no ale przy intensywnych obliczeniach mogą rozpropagować się na resztę wyników."
   ]
  }
 ],
 "metadata": {
  "kernelspec": {
   "display_name": "Python 3",
   "language": "python",
   "name": "python3"
  },
  "language_info": {
   "codemirror_mode": {
    "name": "ipython",
    "version": 3
   },
   "file_extension": ".py",
   "mimetype": "text/x-python",
   "name": "python",
   "nbconvert_exporter": "python",
   "pygments_lexer": "ipython3",
   "version": "3.7.2"
  }
 },
 "nbformat": 4,
 "nbformat_minor": 2
}
