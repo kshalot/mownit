{
 "cells": [
  {
   "cell_type": "markdown",
   "metadata": {},
   "source": [
    "# MOwNiT Laboratorium 2\n",
    "## Zadanie 1\n",
    "Napisz w dowolnym języku zwyczajną (wolną) dyskretną transformatę Fouriera."
   ]
  },
  {
   "cell_type": "markdown",
   "metadata": {},
   "source": [
    "Podstawowy wzór na dyskretną transformatę Fouriera prezentuje się w następujący sposób:"
   ]
  },
  {
   "cell_type": "markdown",
   "metadata": {},
   "source": [
    "$$X_k = \\sum_{n=0}^{N-1}x_n \\cdot e^{-i2\\pi kn/N}$$"
   ]
  },
  {
   "cell_type": "markdown",
   "metadata": {},
   "source": [
    "Można jednak przedstawić go w wygodniejszej postaci macierzowej:"
   ]
  },
  {
   "cell_type": "markdown",
   "metadata": {},
   "source": [
    "$$\n",
    "\\vec{X} = M\\vec{x},\\;\\;\\textrm{gdzie}\n",
    "$$"
   ]
  },
  {
   "cell_type": "markdown",
   "metadata": {},
   "source": [
    "$$\n",
    "\\vec{x} =\n",
    "\\begin{bmatrix}\n",
    "x_0 \\\\\n",
    "x_1 \\\\\n",
    "\\vdots \\\\\n",
    "x_{N-1}\n",
    "\\end{bmatrix},     \n",
    "\\;\\;\\vec{X} =\n",
    "\\begin{bmatrix}\n",
    "X_0 \\\\\n",
    "X_1 \\\\\n",
    "\\vdots \\\\\n",
    "X_{N-1}\n",
    "\\end{bmatrix},\n",
    "\\;\\;M = \n",
    "\\begin{bmatrix}\n",
    "e^{-i2\\pi kn/N}\n",
    "\\end{bmatrix}_{k\\times n}\n",
    "$$"
   ]
  },
  {
   "cell_type": "code",
   "execution_count": 1,
   "metadata": {},
   "outputs": [],
   "source": [
    "import numpy as np\n",
    "\n",
    "def dft(x):\n",
    "    N = x.shape[0]\n",
    "    n = np.arange(N)\n",
    "    k = n.reshape((N, 1))\n",
    "    M = np.exp(-2j * np.pi * k * n/N)   \n",
    "    return  np.dot(M, x)"
   ]
  },
  {
   "cell_type": "markdown",
   "metadata": {},
   "source": [
    "Aby upewnić się, że funkcja działa poprawnie, można porównać jej wynik z transformatą liczoną przez numpy:"
   ]
  },
  {
   "cell_type": "code",
   "execution_count": 2,
   "metadata": {},
   "outputs": [
    {
     "data": {
      "text/plain": [
       "True"
      ]
     },
     "execution_count": 2,
     "metadata": {},
     "output_type": "execute_result"
    }
   ],
   "source": [
    "x = np.random.random(2048)\n",
    "np.allclose(dft(x), np.fft.fft(x))"
   ]
  },
  {
   "cell_type": "markdown",
   "metadata": {},
   "source": [
    "Algorytm działa poprawnie, ale jest niewydajny - złożoność O(N²), co dla dużych N daje niesatysfakcjonujący czas wykonania."
   ]
  },
  {
   "cell_type": "markdown",
   "metadata": {},
   "source": []
  },
  {
   "cell_type": "markdown",
   "metadata": {},
   "source": [
    "## Zadanie 2"
   ]
  },
  {
   "cell_type": "markdown",
   "metadata": {},
   "source": [
    "Wykorzystaj implementację z zadania 1. do napisania szybkiej wersji transformaty (używając pomysłu z algorytmu Cooleya-Tukeya)."
   ]
  },
  {
   "cell_type": "markdown",
   "metadata": {},
   "source": [
    "Algorytm Cooleya-Tukeya polega na wykorzystaniu metody divide and conquer do podzielenia problemu na mniejsze podproblemy i zredukowaniu obliczeń w każdym z nich o połowę (dzięki symetrii DFT). Warunkiem stopu w poniższej implementacji jest zmniejszenie wejściowego wektora na tyle, że użycie zwykłej wersji DFT jest korzystniejsze. W tym przypadku empirycznie wyznaczyłem, że dzieje się to dla N <= 16."
   ]
  },
  {
   "cell_type": "code",
   "execution_count": 3,
   "metadata": {},
   "outputs": [],
   "source": [
    "def fft(x):\n",
    "    N = x.shape[0]\n",
    "    if not np.log2(N).is_integer():\n",
    "        raise ValueError('Length of x must be a power of two')\n",
    "    if N <= 16:\n",
    "        return dft(x)\n",
    "    \n",
    "    n = np.arange(N)\n",
    "    even = fft(x[::2])\n",
    "    odd = fft(x[1::2])\n",
    "    exponent = np.exp(-2j * np.pi * n / N)\n",
    "    return np.concatenate([even + exponent[:N//2] * odd, even + exponent[N//2:] * odd])"
   ]
  },
  {
   "cell_type": "markdown",
   "metadata": {},
   "source": [
    "Aby upewnić się, że funkcja działa poprawnie, można porównać jej wynik z transformatą liczoną przez numpy:"
   ]
  },
  {
   "cell_type": "code",
   "execution_count": 4,
   "metadata": {},
   "outputs": [
    {
     "data": {
      "text/plain": [
       "True"
      ]
     },
     "execution_count": 4,
     "metadata": {},
     "output_type": "execute_result"
    }
   ],
   "source": [
    "np.allclose(fft(x), np.fft.fft(x))"
   ]
  },
  {
   "cell_type": "markdown",
   "metadata": {},
   "source": [
    "Algorytm Cooleya-Tukeya pozwala zmniejszyć złożoność z O(N²) do O(NlogN). Porównanie czasów obu wersji:"
   ]
  },
  {
   "cell_type": "code",
   "execution_count": 5,
   "metadata": {},
   "outputs": [
    {
     "name": "stdout",
     "output_type": "stream",
     "text": [
      "249 ms ± 8.16 ms per loop (mean ± std. dev. of 7 runs, 1 loop each)\n",
      "5.24 ms ± 198 µs per loop (mean ± std. dev. of 7 runs, 100 loops each)\n"
     ]
    }
   ],
   "source": [
    "%timeit dft(x)\n",
    "%timeit fft(x)"
   ]
  },
  {
   "cell_type": "markdown",
   "metadata": {},
   "source": [
    "## Zadanie 3"
   ]
  },
  {
   "cell_type": "markdown",
   "metadata": {},
   "source": [
    "Przetestuj implementację z zadania 2. do wykonania analizy szeregu czasowego:\n",
    "    1. Znajdź dane przedstawiające jakiś szereg czasowy.\n",
    "    2. Załaduj je do programu.\n",
    "    3. Zobacz, czy wykonanie analizy Fouriera na tych danych ma sens -- być może trzeba pogrupować je w równe odstępy.\n",
    "    4. Narysuj wykres częstotliwości i postaraj się opisać jaka jest główna składowa."
   ]
  },
  {
   "cell_type": "markdown",
   "metadata": {},
   "source": [
    "Szereg czasowy:\n",
    "https://www.kaggle.com/robikscube/hourly-energy-consumption#AEP_hourly.csv"
   ]
  },
  {
   "cell_type": "code",
   "execution_count": 6,
   "metadata": {},
   "outputs": [
    {
     "data": {
      "text/plain": [
       "Datetime     object\n",
       "AEP_MW      float64\n",
       "dtype: object"
      ]
     },
     "execution_count": 6,
     "metadata": {},
     "output_type": "execute_result"
    }
   ],
   "source": [
    "import pandas as pd\n",
    "\n",
    "df = pd.read_csv('resources/AEP_hourly.csv')\n",
    "df.dtypes"
   ]
  },
  {
   "cell_type": "markdown",
   "metadata": {},
   "source": [
    "Dataframe składa się z dwóch kolumn:\n",
    " - Daty danego pomiaru (object, czyli string w Pandas)\n",
    " - Konsumpcji energii w megawatach (float64)\n",
    " \n",
    "Po załadowaniu i zbadaniu danych można zająć się ich analizą:"
   ]
  },
  {
   "cell_type": "code",
   "execution_count": 8,
   "metadata": {},
   "outputs": [
    {
     "data": {
      "image/png": "[encoded data removed]",
      "text/plain": [
       "<Figure size 1080x360 with 1 Axes>"
      ]
     },
     "metadata": {
      "needs_background": "light"
     },
     "output_type": "display_data"
    }
   ],
   "source": [
    "import numpy as np\n",
    "import matplotlib.pyplot as plt\n",
    "from scipy import fftpack\n",
    "\n",
    "n = len(df)\n",
    "\n",
    "X = fftpack.fft(df['AEP_MW'])\n",
    "freqs = fftpack.fftfreq(len(df))\n",
    "\n",
    "f, ax = plt.subplots()\n",
    "f.set_size_inches(15, 5)\n",
    "ax.plot(freqs[1:n//2], np.abs(X)[1:n//2])\n",
    "ax.set_xlabel('Frequency in megawatts/hour')\n",
    "ax.set_ylabel('Magnitude')\n",
    "plt.show()"
   ]
  },
  {
   "cell_type": "markdown",
   "metadata": {},
   "source": [
    "Dominującą częstotliwością jest 0.042 MW/h, czyli około 1 MW/dzień. Możemy więc przypuszczać, że w danych występują wzorce powtarzające się na co dzień."
   ]
  }
 ],
 "metadata": {
  "kernelspec": {
   "display_name": "Python 3",
   "language": "python",
   "name": "python3"
  },
  "language_info": {
   "codemirror_mode": {
    "name": "ipython",
    "version": 3
   },
   "file_extension": ".py",
   "mimetype": "text/x-python",
   "name": "python",
   "nbconvert_exporter": "python",
   "pygments_lexer": "ipython3",
   "version": "3.7.2"
  }
 },
 "nbformat": 4,
 "nbformat_minor": 2
}
