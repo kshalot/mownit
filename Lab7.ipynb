{
 "cells": [
  {
   "cell_type": "markdown",
   "metadata": {},
   "source": [
    "# Iteracyjne metody rozwiązywania równań liniowych"
   ]
  },
  {
   "cell_type": "markdown",
   "metadata": {},
   "source": [
    "## Zadanie 1.\n",
    "\n",
    "Zaimplementować metodę Jacobiego i przetestować jej działanie na paru układach równań. Porównać z metodą eliminacji Gaussa użytą do tych samych równań."
   ]
  },
  {
   "cell_type": "code",
   "execution_count": 1,
   "metadata": {},
   "outputs": [],
   "source": [
    "import numpy as np\n",
    "\n",
    "def jacobi_solve(A: np.matrix, b: np.matrix, n: int = 50) -> np.matrix:                                                                                                                                        \n",
    "    x = np.zeros((A.shape[0], 1))\n",
    "\n",
    "    D = np.diag(A)\n",
    "    R = A - np.diagflat(D)\n",
    "    D = D.reshape((A.shape[0], 1))\n",
    "\n",
    "    for i in range(n):\n",
    "        x = (b - np.dot(R, x)) / D\n",
    "    return x"
   ]
  },
  {
   "cell_type": "code",
   "execution_count": 2,
   "metadata": {},
   "outputs": [
    {
     "data": {
      "text/plain": [
       "True"
      ]
     },
     "execution_count": 2,
     "metadata": {},
     "output_type": "execute_result"
    }
   ],
   "source": [
    "A = np.matrix([[10., -1., 2., 0.],\n",
    "              [-1., 11., -1., 3.],\n",
    "              [2., -1., 10., -1.],\n",
    "              [0.0, 3., -1., 8.]])\n",
    "\n",
    "b = np.matrix([6., 25., -11., 15.]).transpose()\n",
    "\n",
    "np.allclose(jacobi_solve(A, b), np.linalg.solve(A, b))"
   ]
  },
  {
   "cell_type": "markdown",
   "metadata": {},
   "source": [
    "## Zadanie 2.\n",
    "\n",
    "Zaimplementować metodę Gaussa-Seidela i przetestować na tych samych układach równań, co metodę Jacobiego."
   ]
  },
  {
   "cell_type": "code",
   "execution_count": 3,
   "metadata": {},
   "outputs": [],
   "source": [
    "def gauss_seidel_solve(A: np.matrix, b: np.matrix, n: int = 50) -> np.matrix:\n",
    "    x = np.zeros((A.shape[0], 1))\n",
    "        \n",
    "    L = np.tril(A)\n",
    "    U = A - L\n",
    "    for i in range(n):\n",
    "        x = np.dot(np.linalg.inv(L), b - np.dot(U, x))\n",
    "    return x"
   ]
  },
  {
   "cell_type": "code",
   "execution_count": 4,
   "metadata": {},
   "outputs": [
    {
     "data": {
      "text/plain": [
       "True"
      ]
     },
     "execution_count": 4,
     "metadata": {},
     "output_type": "execute_result"
    }
   ],
   "source": [
    "A = np.matrix([[10., -1., 2., 0.],\n",
    "              [-1., 11., -1., 3.],\n",
    "              [2., -1., 10., -1.],\n",
    "              [0.0, 3., -1., 8.]])\n",
    "\n",
    "b = np.matrix([6., 25., -11., 15.]).transpose()\n",
    "\n",
    "np.allclose(gauss_seidel_solve(A, b), np.linalg.solve(A, b))"
   ]
  },
  {
   "cell_type": "markdown",
   "metadata": {},
   "source": [
    "## Zadanie 3.\n",
    "\n",
    "Zaimplementować metodę SOR i przetestować na tych samych układach."
   ]
  },
  {
   "cell_type": "code",
   "execution_count": 5,
   "metadata": {},
   "outputs": [],
   "source": [
    "def sor_solve(A: np.matrix, b: np.matrix, n: int = 50, factor: int = 1) -> np.matrix:\n",
    "    x = np.zeros((A.shape[0], 1))\n",
    "    \n",
    "    L = np.tril(A, -1)\n",
    "    U = np.triu(A, 1)\n",
    "    D = np.diagflat(np.diagonal(A))\n",
    "    \n",
    "    for i in range(n):\n",
    "        x = np.dot(np.linalg.inv(D + factor * L), factor * b - np.dot(factor * U + (factor - 1) * D, x))\n",
    "    return x"
   ]
  },
  {
   "cell_type": "code",
   "execution_count": 6,
   "metadata": {},
   "outputs": [
    {
     "data": {
      "text/plain": [
       "True"
      ]
     },
     "execution_count": 6,
     "metadata": {},
     "output_type": "execute_result"
    }
   ],
   "source": [
    "A = np.matrix([[10., -1., 2., 0.],\n",
    "              [-1., 11., -1., 3.],\n",
    "              [2., -1., 10., -1.],\n",
    "              [0.0, 3., -1., 8.]])\n",
    "\n",
    "b = np.matrix([6., 25., -11., 15.]).transpose()\n",
    "\n",
    "np.allclose(sor_solve(A, b), np.linalg.solve(A, b))"
   ]
  },
  {
   "cell_type": "markdown",
   "metadata": {},
   "source": [
    "## Zadanie 4.\n",
    "\n",
    "Dla powyższych metod porównać (na wykresie) tempo zbiegania do rozwiązania."
   ]
  },
  {
   "cell_type": "code",
   "execution_count": 8,
   "metadata": {},
   "outputs": [
    {
     "data": {
      "image/png": "[encoded data removed]",
      "text/plain": [
       "<Figure size 432x288 with 1 Axes>"
      ]
     },
     "metadata": {
      "needs_background": "light"
     },
     "output_type": "display_data"
    }
   ],
   "source": [
    "import matplotlib.pyplot as plt\n",
    "\n",
    "A = np.matrix([[10., -1., 2., 0.],\n",
    "              [-1., 11., -1., 3.],\n",
    "              [2., -1., 10., -1.],\n",
    "              [0.0, 3., -1., 8.]])\n",
    "\n",
    "b = np.matrix([6., 25., -11., 15.]).transpose()\n",
    "\n",
    "def element_distance(a: np.matrix, b: np.matrix) -> int:\n",
    "    rv = 0\n",
    "    for i in range(a.shape[0]):\n",
    "        rv += (a.item((i, 0)) - b.item((i, 0))) ** 2\n",
    "    return rv\n",
    "\n",
    "x = np.linalg.solve(A, b)\n",
    "i = list(range(10))\n",
    "\n",
    "j = [element_distance(x, jacobi_solve(A, b, t)) for t in i]\n",
    "gs = [element_distance(x, gauss_seidel_solve(A, b, t)) for t in i]\n",
    "sor = [element_distance(x, sor_solve(A, b, t, 0.7)) for t in i]\n",
    "\n",
    "plt.plot(i, j, 'ro')\n",
    "plt.plot(i, gs, 'bo')\n",
    "plt.plot(i, sor, 'go')\n",
    "\n",
    "plt.show()"
   ]
  }
 ],
 "metadata": {
  "kernelspec": {
   "display_name": "mownit",
   "language": "python",
   "name": ".venv"
  },
  "language_info": {
   "codemirror_mode": {
    "name": "ipython",
    "version": 3
   },
   "file_extension": ".py",
   "mimetype": "text/x-python",
   "name": "python",
   "nbconvert_exporter": "python",
   "pygments_lexer": "ipython3",
   "version": "3.7.3"
  }
 },
 "nbformat": 4,
 "nbformat_minor": 2
}
